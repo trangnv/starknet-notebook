{
 "cells": [
  {
   "cell_type": "code",
   "execution_count": 1,
   "id": "d8c23374",
   "metadata": {},
   "outputs": [],
   "source": [
    "from starknet_py.net import AccountClient, KeyPair\n",
    "from starknet_py.net.gateway_client import GatewayClient\n",
    "from starknet_py.net.models import StarknetChainId\n",
    "from starknet_py.net.signer.stark_curve_signer import StarkCurveSigner\n",
    "from starknet_py.contract import Contract\n",
    "\n",
    "import json\n",
    "from dotenv import load_dotenv\n",
    "load_dotenv()\n",
    "import os"
   ]
  },
  {
   "attachments": {},
   "cell_type": "markdown",
   "id": "6c7012f4",
   "metadata": {},
   "source": [
    "## Contracts address and abi"
   ]
  },
  {
   "cell_type": "code",
   "execution_count": 2,
   "id": "c0c89cf1",
   "metadata": {},
   "outputs": [],
   "source": [
    "from constants import contract_address\n",
    "with open('abis/polynomial_lr.json', 'r') as _file:\n",
    "    contract_abi = json.load(_file)"
   ]
  },
  {
   "attachments": {},
   "cell_type": "markdown",
   "id": "aeec7063",
   "metadata": {},
   "source": [
    "## Setup account and contract"
   ]
  },
  {
   "cell_type": "code",
   "execution_count": 12,
   "id": "51f9c2d7",
   "metadata": {},
   "outputs": [],
   "source": [
    "net = \"testnet\"\n",
    "chain_id = StarknetChainId.TESTNET\n",
    "client = GatewayClient(net=net)\n",
    "\n",
    "# Access your .env file\n",
    "private_key = int(os.getenv('PRIVATE_KEY'))\n",
    "account_address = os.getenv('ACCOUNT_ADDRESS')\n",
    "\n",
    "# account\n",
    "key_pair = KeyPair.from_private_key(key=private_key)\n",
    "signer = StarkCurveSigner(account_address, key_pair, StarknetChainId.TESTNET)\n",
    "account_client = AccountClient(client=client, address=account_address, signer=signer, supported_tx_version=1)\n",
    "\n",
    "# contract\n",
    "contract = Contract(address=contract_address, abi=contract_abi, client=account_client)\n",
    "# Contract.from_address makes additional request to fetch the ABI\n",
    "# contract = await Contract.from_address(client=account_client, address=address)"
   ]
  },
  {
   "attachments": {},
   "cell_type": "markdown",
   "id": "505f73ee",
   "metadata": {},
   "source": [
    "## Commit test data"
   ]
  },
  {
   "cell_type": "code",
   "execution_count": 2,
   "id": "5a5b251d",
   "metadata": {},
   "outputs": [],
   "source": [
    "import pandas as pd\n",
    "from utils import merkle_root\n",
    "\n",
    "testdata_file = 'testdata/testdata.csv'\n",
    "testdata = pd.read_csv(testdata_file)"
   ]
  },
  {
   "cell_type": "code",
   "execution_count": 14,
   "id": "1872c274",
   "metadata": {},
   "outputs": [],
   "source": [
    "# Prepare merkle root\n",
    "X_test = (testdata['x_test'] * 1e18).astype(int).to_list()\n",
    "Y_test = (testdata['y_test'] * 1e18).astype(int).to_list()\n",
    "\n",
    "commitment = merkle_root([merkle_root(X_test), merkle_root(X_test)])\n",
    "commit = await contract.functions['commit_test_data'].invoke(commitment, max_fee=int(1e18))"
   ]
  }
 ],
 "metadata": {
  "kernelspec": {
   "display_name": "venv",
   "language": "python",
   "name": "python3"
  },
  "language_info": {
   "codemirror_mode": {
    "name": "ipython",
    "version": 3
   },
   "file_extension": ".py",
   "mimetype": "text/x-python",
   "name": "python",
   "nbconvert_exporter": "python",
   "pygments_lexer": "ipython3",
   "version": "3.9.12"
  },
  "vscode": {
   "interpreter": {
    "hash": "f7d48c588d66a1ec23e8a35f93e1a1af75bddb44313efb9de0e166f79e344cac"
   }
  }
 },
 "nbformat": 4,
 "nbformat_minor": 5
}
