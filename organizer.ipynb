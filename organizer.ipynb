{
 "cells": [
  {
   "attachments": {},
   "cell_type": "markdown",
   "id": "6c7012f4",
   "metadata": {},
   "source": [
    "- commit test data"
   ]
  },
  {
   "cell_type": "code",
   "execution_count": 6,
   "id": "c0c89cf1",
   "metadata": {},
   "outputs": [],
   "source": [
    "# setup \n",
    "contract_address = \"0x02dcb80cc54f26c5c73d7b0e9cbab6d53e407bdee82e9fb8bf9d539ca76af201\""
   ]
  },
  {
   "cell_type": "code",
   "execution_count": 14,
   "id": "6c26cc58",
   "metadata": {},
   "outputs": [],
   "source": [
    "from starknet_py.net import AccountClient, KeyPair\n",
    "from starknet_py.net.gateway_client import GatewayClient\n",
    "from starknet_py.net.models import StarknetChainId\n",
    "from starknet_py.net.signer.stark_curve_signer import StarkCurveSigner\n",
    "\n",
    "net = \"testnet\"\n",
    "chain_id = StarknetChainId.TESTNET\n",
    "client = GatewayClient(net=net)\n",
    "\n",
    "key_pair = KeyPair.from_private_key(key=123) # import private key from .env\n",
    "\n",
    "# Instead of providing key_pair it is possible to specify a signer\n",
    "signer = StarkCurveSigner(\"0x1234\", key_pair, StarknetChainId.TESTNET)\n",
    "\n",
    "account_client = AccountClient(client=client, address=\"0x1234\", signer=signer)\n"
   ]
  },
  {
   "cell_type": "code",
   "execution_count": 13,
   "id": "d83c6a39",
   "metadata": {},
   "outputs": [],
   "source": [
    "from starknet_py.contract import Contract\n",
    "import json\n",
    "\n",
    "# erc20 tut\n",
    "address = \"0x014ece8a1dcdcc5a56f01a987046f2bd8ddfb56bc358da050864ae6da5f71394\"\n",
    "\n",
    "# with open('abis/polynomial_lr.json', 'r') as fcc_file:\n",
    "#     abi = json.load(fcc_file)\n",
    "\n",
    "# When ABI is known statically just use the Contract constructor\n",
    "# contract = Contract(address=address, abi=abi, client=account_client)\n",
    "# or if it is not known\n",
    "# Contract.from_address makes additional request to fetch the ABI\n",
    "contract = await Contract.from_address(client=account_client, address=address)\n",
    "\n",
    "# sender = \"321\"\n",
    "# recipient = \"123\"\n",
    "\n",
    "# Using only positional arguments\n",
    "invocation = await contract.functions[\"ex1_assign_rank\"].invoke(max_fee=int(1e16))\n",
    "\n",
    "# result = await contract.functions[\"players_registry\"].call()\n",
    "\n",
    "\n"
   ]
  }
 ],
 "metadata": {
  "kernelspec": {
   "display_name": "venv",
   "language": "python",
   "name": "python3"
  },
  "language_info": {
   "codemirror_mode": {
    "name": "ipython",
    "version": 3
   },
   "file_extension": ".py",
   "mimetype": "text/x-python",
   "name": "python",
   "nbconvert_exporter": "python",
   "pygments_lexer": "ipython3",
   "version": "3.9.12"
  },
  "vscode": {
   "interpreter": {
    "hash": "f7d48c588d66a1ec23e8a35f93e1a1af75bddb44313efb9de0e166f79e344cac"
   }
  }
 },
 "nbformat": 4,
 "nbformat_minor": 5
}
