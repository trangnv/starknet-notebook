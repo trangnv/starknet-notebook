{
 "cells": [
  {
   "cell_type": "code",
   "execution_count": 3,
   "id": "3c820f7f-019c-470c-9d4e-e0fc554de530",
   "metadata": {},
   "outputs": [
    {
     "name": "stdout",
     "output_type": "stream",
     "text": [
      "0\n"
     ]
    }
   ],
   "source": [
    "! starknet call \\\n",
    "    --network=alpha-goerli \\\n",
    "    --address 0x02dcb80cc54f26c5c73d7b0e9cbab6d53e407bdee82e9fb8bf9d539ca76af201 \\\n",
    "    --abi polynomial_lr.json \\\n",
    "    --function view_stage"
   ]
  }
 ],
 "metadata": {
  "kernelspec": {
   "display_name": "sn-nb-env",
   "language": "python",
   "name": "python3"
  },
  "language_info": {
   "codemirror_mode": {
    "name": "ipython",
    "version": 3
   },
   "file_extension": ".py",
   "mimetype": "text/x-python",
   "name": "python",
   "nbconvert_exporter": "python",
   "pygments_lexer": "ipython3",
   "version": "3.9.12"
  },
  "vscode": {
   "interpreter": {
    "hash": "96178f6633b6eb59e82dca6c5bf2b5726f803b94e9b6b4b8d2ec274cfe288656"
   }
  }
 },
 "nbformat": 4,
 "nbformat_minor": 5
}
