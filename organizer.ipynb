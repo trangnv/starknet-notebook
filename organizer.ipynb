{
 "cells": [
  {
   "attachments": {},
   "cell_type": "markdown",
   "id": "6c7012f4",
   "metadata": {},
   "source": [
    "- commit test data"
   ]
  },
  {
   "cell_type": "code",
   "execution_count": 6,
   "id": "c0c89cf1",
   "metadata": {},
   "outputs": [],
   "source": [
    "# setup \n",
    "contract_address = \"0x02dcb80cc54f26c5c73d7b0e9cbab6d53e407bdee82e9fb8bf9d539ca76af201\"\n",
    "\n",
    "! export contract_address=contract_address"
   ]
  },
  {
   "cell_type": "code",
   "execution_count": 7,
   "id": "3c820f7f-019c-470c-9d4e-e0fc554de530",
   "metadata": {},
   "outputs": [
    {
     "name": "stdout",
     "output_type": "stream",
     "text": [
      "0\n"
     ]
    }
   ],
   "source": [
    "! starknet call \\\n",
    "    --network=alpha-goerli \\\n",
    "    --address $contract_address \\\n",
    "    --abi abis/polynomial_lr.json \\\n",
    "    --function view_stage"
   ]
  }
 ],
 "metadata": {
  "kernelspec": {
   "display_name": "venv",
   "language": "python",
   "name": "python3"
  },
  "language_info": {
   "codemirror_mode": {
    "name": "ipython",
    "version": 3
   },
   "file_extension": ".py",
   "mimetype": "text/x-python",
   "name": "python",
   "nbconvert_exporter": "python",
   "pygments_lexer": "ipython3",
   "version": "3.9.12"
  },
  "vscode": {
   "interpreter": {
    "hash": "f7d48c588d66a1ec23e8a35f93e1a1af75bddb44313efb9de0e166f79e344cac"
   }
  }
 },
 "nbformat": 4,
 "nbformat_minor": 5
}
